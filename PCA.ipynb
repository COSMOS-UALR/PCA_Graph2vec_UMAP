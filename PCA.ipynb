{
 "cells": [
  {
   "cell_type": "code",
   "execution_count": 17,
   "id": "c7036b33",
   "metadata": {},
   "outputs": [],
   "source": [
    "import numpy as np\n",
    "import pandas as pd\n",
    "import matplotlib.pyplot as plt\n",
    "import seaborn as sns\n",
    "%matplotlib inline\n",
    "from sklearn.preprocessing import StandardScaler\n",
    "from sklearn.decomposition import PCA\n",
    "from sklearn.decomposition import IncrementalPCA\n",
    "from sklearn.cluster import KMeans\n",
    "from sklearn.metrics import pairwise_distances_argmin\n",
    "from scipy.cluster.hierarchy import linkage,cophenet,dendrogram ,cut_tree\n",
    "from scipy.spatial.distance import pdist\n",
    "from sklearn.cluster import AgglomerativeClustering\n",
    "from sklearn.metrics import silhouette_score, davies_bouldin_score\n",
    "import warnings\n",
    "warnings.filterwarnings('ignore')\n",
    "from scipy.spatial.distance import pdist"
   ]
  },
  {
   "cell_type": "code",
   "execution_count": 1,
   "id": "f609b583",
   "metadata": {},
   "outputs": [],
   "source": [
    "df_segmentation = pd.read_csv('channels.csv')\n",
    "del df_segmentation['channel_id']  \n",
    "df_segmentation = df_segmentation.fillna(0)\n",
    "df_segmentation.head(100)"
   ]
  },
  {
   "cell_type": "code",
   "execution_count": 2,
   "id": "afff9adc",
   "metadata": {},
   "outputs": [],
   "source": [
    "scaler = StandardScaler()\n",
    "df_segmentation_scaled = scaler.fit_transform(df_segmentation)\n",
    "X_scaled_df = pd.DataFrame(df_segmentation_scaled,columns=df_segmentation.columns)\n",
    "df_segmentation.head(50)"
   ]
  },
  {
   "cell_type": "markdown",
   "id": "40f56b3f",
   "metadata": {},
   "source": [
    "# Principle Component Analysis"
   ]
  },
  {
   "cell_type": "code",
   "execution_count": 5,
   "id": "ed0c702d",
   "metadata": {
    "scrolled": true
   },
   "outputs": [],
   "source": [
    "pca = PCA()\n",
    "pca.fit(df_segmentation_scaled)\n",
    "pca.explained_variance_ratio_\n",
    "pca_final = IncrementalPCA(n_components=2)\n",
    "X_pca_final = pca_final.fit_transform(df_segmentation_scaled)"
   ]
  },
  {
   "cell_type": "markdown",
   "id": "338ea878",
   "metadata": {},
   "source": [
    "# Optimal Number Of Clusters for KMeans"
   ]
  },
  {
   "cell_type": "code",
   "execution_count": 3,
   "id": "6c3946df",
   "metadata": {
    "scrolled": true
   },
   "outputs": [],
   "source": [
    "silhouette_scores = []\n",
    "ch_scores = []\n",
    "db_scores = []\n",
    "for n_clusters in range(2, 11):\n",
    "    clusterer = AgglomerativeClustering(n_clusters=n_clusters)\n",
    "    cluster_labels = clusterer.fit_predict(X_pca_final)\n",
    "    silhouette_avg = silhouette_score(X_pca_final, cluster_labels)\n",
    "    ch_score = calinski_harabasz_score(X_pca_final, cluster_labels)\n",
    "    db_score = davies_bouldin_score(X_pca_final, cluster_labels)\n",
    "    silhouette_scores.append(silhouette_avg)\n",
    "    ch_scores.append(ch_score)\n",
    "    db_scores.append(db_score)\n",
    "best_n_clusters = silhouette_scores.index(max(silhouette_scores))\n",
    "print(\"The optimal number of clusters is:\", best_n_clusters)\n",
    "clusterer = AgglomerativeClustering(n_clusters=best_n_clusters)\n",
    "cluster_labels = clusterer.fit_predict(X_pca_final)\n",
    "\n",
    "X_pca_final_df = pd.DataFrame(X_pca_final,columns=['PC1','PC2'])\n",
    "X_pca_final_df['Cluster'] = cluster_labels\n",
    "\n",
    "plt.figure(figsize=(14,6),dpi=60)\n",
    "plt.subplot(1,2,1)\n",
    "sns.scatterplot(x='PC1',y='PC2',data=X_pca_final_df,hue='Cluster')\n",
    "plt.xlabel(\"PC1\", fontsize=14)\n",
    "plt.ylabel(\"PC2\", fontsize=14)\n",
    "plt.legend(fontsize=14)\n",
    "plt.xticks(fontsize=14)\n",
    "plt.yticks(fontsize=14)\n",
    "print(\"Silhouette Score:\", silhouette_scores[best_n_clusters],\"(Higher score indicates better separation)\")\n",
    "print(\"Davies-Bouldin Index:\", db_scores[best_n_clusters],\"(Lower score indicates better separation)\")"
   ]
  },
  {
   "cell_type": "code",
   "execution_count": 4,
   "id": "3e2a9a2e",
   "metadata": {},
   "outputs": [],
   "source": [
    "kmeans = KMeans(n_clusters=best_n_clusters, max_iter=1000, random_state=42)\n",
    "kmeans.fit(X_pca_final)\n",
    "df_segmentation['K-Means_Cluster_ID'] = kmeans.labels_"
   ]
  },
  {
   "cell_type": "markdown",
   "id": "f07943ef",
   "metadata": {},
   "source": [
    "# Optimal Number Of Clusters For Hierarchical Clustering (Silhouette Score)"
   ]
  },
  {
   "cell_type": "code",
   "execution_count": 5,
   "id": "8b6a4b70",
   "metadata": {},
   "outputs": [],
   "source": [
    "silhouette_scores = []\n",
    "for n_clusters in range(2, 11):\n",
    "    clusterer = AgglomerativeClustering(n_clusters=n_clusters, linkage=\"single\")\n",
    "    cluster_labels = clusterer.fit_predict(X_pca_final)\n",
    "    silhouette_avg = silhouette_score(X_pca_final, cluster_labels)\n",
    "    silhouette_scores.append(silhouette_avg)\n",
    "\n",
    "best_n_clusters_h = silhouette_scores.index(max(silhouette_scores))\n",
    "print(\"The optimal number of clusters for hierarchical clustering is:\", best_n_clusters_h)\n",
    "print(\"Silhouette score for the optimal number of clusters:\", max(silhouette_scores))\n",
    "\n",
    "sl_mergings = linkage(X_pca_final, method=\"single\", metric='euclidean')\n",
    "dendrogram(sl_mergings)\n",
    "plt.title(\"Hierarchical Clustering Dendrogram\")\n",
    "plt.xlabel(\"Channel Index\")\n",
    "plt.ylabel(\"Distance\")\n",
    "plt.show()\n",
    "\n",
    "c, coph_dists = cophenet(sl_mergings, pdist(X_pca_final))\n",
    "print(\"Cophenetic correlation coefficient:\", c)"
   ]
  },
  {
   "cell_type": "code",
   "execution_count": 6,
   "id": "441529b1",
   "metadata": {},
   "outputs": [],
   "source": [
    "sl_cluster_labels = cut_tree(sl_mergings, n_clusters=best_n_clusters_h).reshape(-1, )\n",
    "df_segmentation[\"Hierarchical_Cluster_labels\"] = sl_cluster_labels\n",
    "df_segmentation"
   ]
  },
  {
   "cell_type": "code",
   "execution_count": 7,
   "id": "0df89205",
   "metadata": {},
   "outputs": [],
   "source": [
    "X_pca_final_df = pd.DataFrame(X_pca_final,columns=['PC1','PC2'])\n",
    "X_pca_final_df['K_Means_Cluster'] = kmeans.labels_\n",
    "X_pca_final_df['Hierarchical_Cluster'] = sl_cluster_labels\n",
    "X_pca_final_df.head(50)"
   ]
  }
 ],
 "metadata": {
  "kernelspec": {
   "display_name": "Python 3 (ipykernel)",
   "language": "python",
   "name": "python3"
  },
  "language_info": {
   "codemirror_mode": {
    "name": "ipython",
    "version": 3
   },
   "file_extension": ".py",
   "mimetype": "text/x-python",
   "name": "python",
   "nbconvert_exporter": "python",
   "pygments_lexer": "ipython3",
   "version": "3.9.12"
  }
 },
 "nbformat": 4,
 "nbformat_minor": 5
}
